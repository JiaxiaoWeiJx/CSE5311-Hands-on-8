{
  "nbformat": 4,
  "nbformat_minor": 0,
  "metadata": {
    "colab": {
      "provenance": []
    },
    "kernelspec": {
      "name": "python3",
      "display_name": "Python 3"
    },
    "language_info": {
      "name": "python"
    }
  },
  "cells": [
    {
      "cell_type": "code",
      "execution_count": 10,
      "metadata": {
        "colab": {
          "base_uri": "https://localhost:8080/"
        },
        "id": "abHjPb_14iDm",
        "outputId": "523c1fc4-1cec-4742-bf48-b214a758a86f"
      },
      "outputs": [
        {
          "output_type": "stream",
          "name": "stdout",
          "text": [
            "The 5th order statistic is: 4\n"
          ]
        }
      ],
      "source": [
        "def partition(arr, p, r):\n",
        "    x = arr[r]\n",
        "    i = p - 1\n",
        "    for j in range(p, r):\n",
        "        if arr[j] < x:\n",
        "            i += 1\n",
        "            arr[i], arr[j] = arr[j], arr[i]\n",
        "    arr[i + 1], arr[r] = arr[r], arr[i + 1]\n",
        "    return i + 1\n",
        "\n",
        "\n",
        "def quicksort(arr, p, r):\n",
        "  stack = [(p,r)]\n",
        "  while stack:\n",
        "    p,r = stack.pop()\n",
        "    if p< r:\n",
        "        q = partition(arr, p, r)\n",
        "        stack.append(( p, q - 1))\n",
        "        stack.append(( q + 1, r))\n",
        "\n",
        "\n",
        "def quickselect(arr, p, r, i):\n",
        "    if p == r:\n",
        "        return arr[p]\n",
        "    pivot_index = partition(arr, p, r)\n",
        "    k = pivot_index - p + 1\n",
        "    if i == k:\n",
        "        return arr[pivot_index]\n",
        "    elif i < k:\n",
        "        return quickselect(arr, p, pivot_index - 1, i)\n",
        "    else:\n",
        "        return quickselect(arr, pivot_index + 1,r, i - k)\n",
        "\n",
        "def ith_order_statistic(arr, i):\n",
        "    if i < 1 or i > len(arr):\n",
        "        return None\n",
        "    return quickselect(arr, 0, len(arr) - 1, i)\n",
        "\n",
        "# Example usage:\n",
        "arr = [3, 1 , 4, 5, 9, 2, 6, 5, 3, 5]\n",
        "i = 5\n",
        "print(f\"The {i}th order statistic is: {ith_order_statistic(arr, i)}\")\n"
      ]
    },
    {
      "cell_type": "markdown",
      "source": [
        "# **Stack**"
      ],
      "metadata": {
        "id": "OTqKQtGYEWuZ"
      }
    },
    {
      "cell_type": "code",
      "source": [
        "class Stack:\n",
        "    def __init__(self, size):\n",
        "        self.size = size\n",
        "        self.stack = [None] * size\n",
        "        self.top = -1\n",
        "\n",
        "    def is_empty(self):\n",
        "        return self.top == -1\n",
        "\n",
        "    def is_full(self):\n",
        "        return self.top == self.size - 1\n",
        "\n",
        "    def push(self, value):\n",
        "        if not self.is_full():\n",
        "            self.top += 1\n",
        "            self.stack[self.top] = value\n",
        "        else:\n",
        "            print(\"Stack overflow!\")\n",
        "\n",
        "    def pop(self):\n",
        "        if not self.is_empty():\n",
        "            value = self.stack[self.top]\n",
        "            self.top -= 1\n",
        "            return value\n",
        "        else:\n",
        "            print(\"Stack underflow!\")\n",
        "            return None\n",
        "\n",
        "    def peek(self):\n",
        "        if self.top == -1:\n",
        "            print(\"Stack is empty\")\n",
        "            return None\n",
        "        return self.stack[self.top]"
      ],
      "metadata": {
        "id": "kYEVkAKKEeZ0"
      },
      "execution_count": 11,
      "outputs": []
    },
    {
      "cell_type": "code",
      "source": [
        "if __name__ == \"__main__\":\n",
        "    # Stack example\n",
        "    stack = Stack(3)\n",
        "    stack.push(10)\n",
        "    stack.push(20)\n",
        "    stack.push(50)\n",
        "    print(\"Popped element from stack:\", stack.pop())"
      ],
      "metadata": {
        "colab": {
          "base_uri": "https://localhost:8080/"
        },
        "id": "sH0Rjo36Fmtz",
        "outputId": "89843374-a9a1-495c-a18e-222f64c485a2"
      },
      "execution_count": 13,
      "outputs": [
        {
          "output_type": "stream",
          "name": "stdout",
          "text": [
            "Popped element from stack: 50\n"
          ]
        }
      ]
    },
    {
      "cell_type": "markdown",
      "source": [
        "# **Queue**"
      ],
      "metadata": {
        "id": "Kq0qqYORF6sJ"
      }
    },
    {
      "cell_type": "code",
      "source": [
        "class Queue:\n",
        "    def __init__(self, size):\n",
        "        self.size = size\n",
        "        self.queue = [None] * size\n",
        "        self.front = self.rear = -1\n",
        "\n",
        "    def is_empty(self):\n",
        "        return self.front == -1\n",
        "\n",
        "    def is_full(self):\n",
        "        return (self.rear + 1) % self.size == self.front\n",
        "\n",
        "    def enqueue(self, value):\n",
        "        if not self.is_full():\n",
        "            if self.is_empty():\n",
        "                self.front = self.rear = 0\n",
        "            else:\n",
        "                self.rear = (self.rear + 1) % self.size\n",
        "            self.queue[self.rear] = value\n",
        "        else:\n",
        "            print(\"Queue overflow!\")\n",
        "\n",
        "    def dequeue(self):\n",
        "        if not self.is_empty():\n",
        "            value = self.queue[self.front]\n",
        "            if self.front == self.rear:\n",
        "                self.front = self.rear = -1\n",
        "            else:\n",
        "                self.front = (self.front + 1) % self.size\n",
        "            return value\n",
        "        else:\n",
        "            print(\"Queue underflow!\")\n",
        "            return None"
      ],
      "metadata": {
        "id": "CDP_dDCAF7ea"
      },
      "execution_count": 14,
      "outputs": []
    },
    {
      "cell_type": "code",
      "source": [
        "# Queue example\n",
        "if __name__ == \"__main__\":\n",
        "    queue = Queue(3)\n",
        "    queue.enqueue(10)\n",
        "    queue.enqueue(20)\n",
        "    queue.enqueue(30)\n",
        "    print(\"Dequeued element from queue:\", queue.dequeue())\n"
      ],
      "metadata": {
        "colab": {
          "base_uri": "https://localhost:8080/"
        },
        "id": "JEbzkm1BGDc-",
        "outputId": "5302e8d5-e63c-40d3-9b95-c4bc875eab66"
      },
      "execution_count": 16,
      "outputs": [
        {
          "output_type": "stream",
          "name": "stdout",
          "text": [
            "Dequeued element from queue: 10\n"
          ]
        }
      ]
    },
    {
      "cell_type": "markdown",
      "source": [
        "# **Singly Linked List**"
      ],
      "metadata": {
        "id": "4HxaQGvuGNia"
      }
    },
    {
      "cell_type": "code",
      "source": [
        "class Node:\n",
        "    def __init__(self, data):\n",
        "        self.data = data\n",
        "        self.next = None\n",
        "\n",
        "class LinkedList:\n",
        "    def __init__(self):\n",
        "        self.head = None\n",
        "\n",
        "    def insert_front(self, value):\n",
        "        new_node = Node(value)\n",
        "        new_node.next = self.head\n",
        "        self.head = new_node\n",
        "\n",
        "    def display(self):\n",
        "        current = self.head\n",
        "        while current:\n",
        "            print(current.data, end=\" -> \")\n",
        "            current = current.next\n",
        "        print(\"None\")"
      ],
      "metadata": {
        "id": "RQOh5ckKGOIs"
      },
      "execution_count": 18,
      "outputs": []
    },
    {
      "cell_type": "code",
      "source": [
        "# Singly linked list example\n",
        "if __name__ == \"__main__\":\n",
        "    linked_list = LinkedList()\n",
        "    linked_list.insert_front(10)\n",
        "    linked_list.insert_front(20)\n",
        "    linked_list.insert_front(30)\n",
        "    print(\"Linked list:\", end=\" \")\n",
        "    linked_list.display()"
      ],
      "metadata": {
        "colab": {
          "base_uri": "https://localhost:8080/"
        },
        "id": "5-1ecqpGGeNx",
        "outputId": "38a0301b-7781-4c30-a784-e125bbf17577"
      },
      "execution_count": 19,
      "outputs": [
        {
          "output_type": "stream",
          "name": "stdout",
          "text": [
            "Linked list: 30 -> 20 -> 10 -> None\n"
          ]
        }
      ]
    }
  ]
}